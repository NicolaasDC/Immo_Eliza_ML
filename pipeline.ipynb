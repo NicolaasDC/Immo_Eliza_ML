{
 "cells": [
  {
   "cell_type": "code",
   "execution_count": 668,
   "metadata": {},
   "outputs": [],
   "source": [
    "import pandas as pd\n",
    "import seaborn as sns\n",
    "from matplotlib import pyplot as plt\n",
    "from sklearn.model_selection import train_test_split\n",
    "from sklearn.linear_model import LinearRegression\n",
    "from sklearn.preprocessing import OrdinalEncoder\n",
    "from sklearn.preprocessing import OneHotEncoder\n",
    "from sklearn.impute import SimpleImputer"
   ]
  },
  {
   "cell_type": "code",
   "execution_count": 669,
   "metadata": {},
   "outputs": [],
   "source": [
    "df = pd.read_csv(\"./data/clean_data_with_region.csv\")"
   ]
  },
  {
   "cell_type": "code",
   "execution_count": 670,
   "metadata": {},
   "outputs": [
    {
     "name": "stdout",
     "output_type": "stream",
     "text": [
      "Index([], dtype='int64')\n"
     ]
    }
   ],
   "source": [
    "nan_indices = df[df['Type of property'].isna()].index\n",
    "print(nan_indices)"
   ]
  },
  {
   "cell_type": "code",
   "execution_count": 671,
   "metadata": {},
   "outputs": [
    {
     "data": {
      "text/plain": [
       "(9393, 24)"
      ]
     },
     "execution_count": 671,
     "metadata": {},
     "output_type": "execute_result"
    }
   ],
   "source": [
    "y = df[['price']]\n",
    "X = df.drop(columns=['price'])\n",
    "X.shape"
   ]
  },
  {
   "cell_type": "code",
   "execution_count": 672,
   "metadata": {},
   "outputs": [],
   "source": [
    "# delete all columns with more than 30% missing values\n",
    "for column in X:\n",
    "    if X[column].isnull().sum(axis = 0) > len(X) * 0.3:\n",
    "        X = X.drop(columns=[column])"
   ]
  },
  {
   "cell_type": "code",
   "execution_count": 673,
   "metadata": {},
   "outputs": [
    {
     "data": {
      "text/plain": [
       "(9393, 14)"
      ]
     },
     "execution_count": 673,
     "metadata": {},
     "output_type": "execute_result"
    }
   ],
   "source": [
    "X.columns\n",
    "X.shape"
   ]
  },
  {
   "cell_type": "code",
   "execution_count": 674,
   "metadata": {},
   "outputs": [
    {
     "data": {
      "text/plain": [
       "(9393, 14)"
      ]
     },
     "execution_count": 674,
     "metadata": {},
     "output_type": "execute_result"
    }
   ],
   "source": [
    "X.shape"
   ]
  },
  {
   "cell_type": "code",
   "execution_count": 675,
   "metadata": {},
   "outputs": [],
   "source": [
    "X = X.drop(columns=['Property ID', 'Locality name', 'Energy class', 'region'])"
   ]
  },
  {
   "cell_type": "code",
   "execution_count": 676,
   "metadata": {},
   "outputs": [
    {
     "data": {
      "text/plain": [
       "Index(['Postal code', 'Type of property', 'Construction year',\n",
       "       'Number of rooms', 'Living area', 'kitchen', 'State of builing',\n",
       "       'Primary energy consumption', 'Heating type', 'Double glazing'],\n",
       "      dtype='object')"
      ]
     },
     "execution_count": 676,
     "metadata": {},
     "output_type": "execute_result"
    }
   ],
   "source": [
    "X.columns"
   ]
  },
  {
   "cell_type": "code",
   "execution_count": 677,
   "metadata": {},
   "outputs": [
    {
     "name": "stdout",
     "output_type": "stream",
     "text": [
      "<class 'pandas.core.frame.DataFrame'>\n",
      "RangeIndex: 9393 entries, 0 to 9392\n",
      "Data columns (total 10 columns):\n",
      " #   Column                      Non-Null Count  Dtype  \n",
      "---  ------                      --------------  -----  \n",
      " 0   Postal code                 9393 non-null   int64  \n",
      " 1   Type of property            9393 non-null   object \n",
      " 2   Construction year           6710 non-null   float64\n",
      " 3   Number of rooms             9318 non-null   float64\n",
      " 4   Living area                 8955 non-null   float64\n",
      " 5   kitchen                     7393 non-null   float64\n",
      " 6   State of builing            7792 non-null   object \n",
      " 7   Primary energy consumption  7877 non-null   float64\n",
      " 8   Heating type                6753 non-null   object \n",
      " 9   Double glazing              7473 non-null   float64\n",
      "dtypes: float64(6), int64(1), object(3)\n",
      "memory usage: 734.0+ KB\n"
     ]
    }
   ],
   "source": [
    "X.info()"
   ]
  },
  {
   "cell_type": "code",
   "execution_count": 678,
   "metadata": {},
   "outputs": [],
   "source": [
    "imputer_most_frequent = SimpleImputer(strategy='most_frequent')\n",
    "columns_to_impute_most_frequent = ['Number of rooms', 'kitchen', 'State of builing', 'Heating type', 'Double glazing']\n",
    "imputer_mean = SimpleImputer(strategy='mean')\n",
    "columns_to_impute_mean = ['Construction year', 'Living area', 'Primary energy consumption']"
   ]
  },
  {
   "cell_type": "code",
   "execution_count": 679,
   "metadata": {},
   "outputs": [],
   "source": [
    "X[columns_to_impute_most_frequent] = imputer_most_frequent.fit_transform(X[columns_to_impute_most_frequent])\n",
    "X[columns_to_impute_mean] = imputer_mean.fit_transform(X[columns_to_impute_mean])"
   ]
  },
  {
   "cell_type": "code",
   "execution_count": 680,
   "metadata": {},
   "outputs": [
    {
     "name": "stdout",
     "output_type": "stream",
     "text": [
      "<class 'pandas.core.frame.DataFrame'>\n",
      "RangeIndex: 9393 entries, 0 to 9392\n",
      "Data columns (total 10 columns):\n",
      " #   Column                      Non-Null Count  Dtype  \n",
      "---  ------                      --------------  -----  \n",
      " 0   Postal code                 9393 non-null   int64  \n",
      " 1   Type of property            9393 non-null   object \n",
      " 2   Construction year           9393 non-null   float64\n",
      " 3   Number of rooms             9393 non-null   object \n",
      " 4   Living area                 9393 non-null   float64\n",
      " 5   kitchen                     9393 non-null   object \n",
      " 6   State of builing            9393 non-null   object \n",
      " 7   Primary energy consumption  9393 non-null   float64\n",
      " 8   Heating type                9393 non-null   object \n",
      " 9   Double glazing              9393 non-null   object \n",
      "dtypes: float64(3), int64(1), object(6)\n",
      "memory usage: 734.0+ KB\n"
     ]
    }
   ],
   "source": [
    "X.info()"
   ]
  },
  {
   "cell_type": "code",
   "execution_count": 681,
   "metadata": {},
   "outputs": [
    {
     "name": "stdout",
     "output_type": "stream",
     "text": [
      "0       5.0\n",
      "1       5.0\n",
      "2       1.0\n",
      "3       3.0\n",
      "4       4.0\n",
      "       ... \n",
      "9388    5.0\n",
      "9389    5.0\n",
      "9390    5.0\n",
      "9391    3.0\n",
      "9392    3.0\n",
      "Name: State_encoded, Length: 9393, dtype: float64\n"
     ]
    }
   ],
   "source": [
    "categorie = [['To restore', 'To renovate', 'To be done up', 'Good', 'Just renovated', 'As new']]\n",
    "\n",
    "encoder = OrdinalEncoder(categories=categorie)\n",
    "X['State_encoded'] = encoder.fit_transform(X[['State of builing']])\n",
    "\n",
    "print(X['State_encoded'])\n",
    "X = X.drop(columns=['State of builing'])"
   ]
  },
  {
   "cell_type": "code",
   "execution_count": 683,
   "metadata": {},
   "outputs": [],
   "source": [
    "# create encoder object\n",
    "enc = OneHotEncoder(sparse_output=False, drop='first').set_output(transform=\"pandas\")\n",
    "\n",
    "# apply fit method to the data frame\n",
    "\n",
    "encoded_data = enc.fit_transform(X[['Heating type', 'Type of property']])\n",
    "\n",
    "X = pd.concat([X.drop(columns=['Type of property', 'Type of property']).reset_index(drop=True), encoded_data.reset_index(drop=True)], axis=1)"
   ]
  },
  {
   "cell_type": "code",
   "execution_count": 684,
   "metadata": {},
   "outputs": [
    {
     "name": "stdout",
     "output_type": "stream",
     "text": [
      "<class 'pandas.core.frame.DataFrame'>\n",
      "RangeIndex: 9393 entries, 0 to 9392\n",
      "Data columns (total 16 columns):\n",
      " #   Column                      Non-Null Count  Dtype  \n",
      "---  ------                      --------------  -----  \n",
      " 0   Postal code                 9393 non-null   int64  \n",
      " 1   Construction year           9393 non-null   float64\n",
      " 2   Number of rooms             9393 non-null   object \n",
      " 3   Living area                 9393 non-null   float64\n",
      " 4   kitchen                     9393 non-null   object \n",
      " 5   Primary energy consumption  9393 non-null   float64\n",
      " 6   Heating type                9393 non-null   object \n",
      " 7   Double glazing              9393 non-null   object \n",
      " 8   State_encoded               9393 non-null   float64\n",
      " 9   Heating type_Electric       9393 non-null   float64\n",
      " 10  Heating type_Fuel oil       9393 non-null   float64\n",
      " 11  Heating type_Gas            9393 non-null   float64\n",
      " 12  Heating type_Pellet         9393 non-null   float64\n",
      " 13  Heating type_Solar          9393 non-null   float64\n",
      " 14  Heating type_Wood           9393 non-null   float64\n",
      " 15  Type of property_house      9393 non-null   float64\n",
      "dtypes: float64(11), int64(1), object(4)\n",
      "memory usage: 1.1+ MB\n"
     ]
    }
   ],
   "source": [
    "X.info()"
   ]
  },
  {
   "cell_type": "code",
   "execution_count": 685,
   "metadata": {},
   "outputs": [],
   "source": [
    "X_train, X_test, y_train, y_test = train_test_split(\n",
    "    X, y, train_size=0.8, test_size=0.2, random_state=0)"
   ]
  }
 ],
 "metadata": {
  "kernelspec": {
   "display_name": ".venv",
   "language": "python",
   "name": "python3"
  },
  "language_info": {
   "codemirror_mode": {
    "name": "ipython",
    "version": 3
   },
   "file_extension": ".py",
   "mimetype": "text/x-python",
   "name": "python",
   "nbconvert_exporter": "python",
   "pygments_lexer": "ipython3",
   "version": "3.11.9"
  }
 },
 "nbformat": 4,
 "nbformat_minor": 2
}
